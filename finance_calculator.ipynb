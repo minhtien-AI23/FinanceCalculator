{
 "cells": [
  {
   "cell_type": "code",
   "execution_count": 14,
   "id": "6d0d9823-8fdb-40c3-850b-789b33cfe6b5",
   "metadata": {},
   "outputs": [
    {
     "name": "stdin",
     "output_type": "stream",
     "text": [
      "Enter your monthly income:  1300000\n",
      "Enter your tax rate (%):  10\n"
     ]
    },
    {
     "name": "stdout",
     "output_type": "stream",
     "text": [
      "|----------------------------------------|\n",
      "monthly income: VND 1,300,000.00\n",
      "tax rate: 10.00%\n",
      "monthly tax: VND 130,000.00\n",
      "monthly net income: VND 1,170,000.00\n",
      "yearly salary: VND 15,600,000.00\n",
      "yearly tax paid: VND 1,560,000.00\n",
      "yearly net income: VND 14,040,000.00\n",
      "|----------------------------------------|\n",
      "\n",
      "\n",
      "Do you want to calculate finances after your expenses?\n",
      "=> Plese choose the options:\n",
      "1. YES\n",
      "2. NO\n",
      "\n"
     ]
    },
    {
     "name": "stdin",
     "output_type": "stream",
     "text": [
      "Enter your number:  4\n"
     ]
    },
    {
     "name": "stdout",
     "output_type": "stream",
     "text": [
      "Invalid choice. Please choose 1 or 2.\n",
      "\n",
      "\n",
      "Do you want to calculate finances after your expenses?\n",
      "=> Plese choose the options:\n",
      "1. YES\n",
      "2. NO\n",
      "\n"
     ]
    },
    {
     "name": "stdin",
     "output_type": "stream",
     "text": [
      "Enter your number:  1\n"
     ]
    },
    {
     "name": "stdout",
     "output_type": "stream",
     "text": [
      "How many kinds of expenses do you want to calculate?\n"
     ]
    },
    {
     "name": "stdin",
     "output_type": "stream",
     "text": [
      "Enter your number of expense kind:  4\n"
     ]
    },
    {
     "name": "stdout",
     "output_type": "stream",
     "text": [
      "|----------------------------------------|\n"
     ]
    },
    {
     "name": "stdin",
     "output_type": "stream",
     "text": [
      "Enter the name of expense:  food\n",
      "Enter the price of this expense:  30000\n",
      "Enter the quantity of this expense:  4\n"
     ]
    },
    {
     "name": "stdout",
     "output_type": "stream",
     "text": [
      "==> food (4): VND 120,000.00\n"
     ]
    },
    {
     "name": "stdin",
     "output_type": "stream",
     "text": [
      "Enter the name of expense:  deposit\n",
      "Enter the price of this expense:  3\n",
      "Enter the quantity of this expense:  24\n"
     ]
    },
    {
     "name": "stdout",
     "output_type": "stream",
     "text": [
      "==> deposit (24): VND 72.00\n"
     ]
    },
    {
     "name": "stdin",
     "output_type": "stream",
     "text": [
      "Enter the name of expense:  gasoline\n",
      "Enter the price of this expense:  50\n",
      "Enter the quantity of this expense:  4\n"
     ]
    },
    {
     "name": "stdout",
     "output_type": "stream",
     "text": [
      "==> gasoline (4): VND 200.00\n"
     ]
    },
    {
     "name": "stdin",
     "output_type": "stream",
     "text": [
      "Enter the name of expense:  deposit2\n",
      "Enter the price of this expense:  10000\n",
      "Enter the quantity of this expense:  4\n"
     ]
    },
    {
     "name": "stdout",
     "output_type": "stream",
     "text": [
      "==> deposit2 (4): VND 40,000.00\n",
      "\tTotal monthly expenses: VND 160,272.00\n",
      "\tRemaining after expenses: VND 1,009,728.00\n",
      "|----------------------------------------|\n"
     ]
    }
   ],
   "source": [
    "# handle the case where the input data is not a real number\n",
    "def get_float_input(prompt: str) -> float:\n",
    "    while True:\n",
    "        try:\n",
    "            return float(input(prompt))\n",
    "        except ValueError: \n",
    "            print(\"Please enter a valid number!\")\n",
    "\n",
    "#handle the case where the input data is not an integer\n",
    "def get_int_input(prompt: str) -> int:\n",
    "    while True:\n",
    "        try:\n",
    "            return int(input(prompt))\n",
    "        except ValueError:\n",
    "            print(\"Please enter a valid integer!\")\n",
    "\n",
    "def calculate_finances(monthly_income: float, tax_rate: float, currency: str) -> None:\n",
    "    \n",
    "    monthly_tax: float = monthly_income * (tax_rate / 100)\n",
    "    monthly_net_income: float = monthly_income - monthly_tax\n",
    "    yearly_salary: float = monthly_income * 12\n",
    "    yearly_tax: float = monthly_tax*12\n",
    "    yearly_net_income: float = yearly_salary - yearly_tax\n",
    "     \n",
    "    print(\"|\" + \"-\"*40 + \"|\")\n",
    "    print(f\"monthly income: {currency} {monthly_income:,.2f}\")\n",
    "    print(f\"tax rate: {tax_rate:.2f}%\")\n",
    "    print(f\"monthly tax: {currency} {monthly_tax:,.2f}\")\n",
    "    print(f\"monthly net income: {currency} {monthly_net_income:,.2f}\")\n",
    "    print(f\"yearly salary: {currency} {yearly_salary:,.2f}\")\n",
    "    print(f\"yearly tax paid: {currency} {yearly_tax:,.2f}\")\n",
    "    print(f\"yearly net income: {currency} {yearly_net_income:,.2f}\")\n",
    "    print(\"|\" + \"-\"*40 + \"|\")\n",
    "\n",
    "    #Calculates expenses if the user needs\n",
    "    while True:\n",
    "        print(\"\"\"\\n\n",
    "Do you want to calculate finances after your expenses?\n",
    "=> Plese choose the options:\n",
    "1. YES\n",
    "2. NO\n",
    "\"\"\")\n",
    "        selection = int(input(\"Enter your number: \"))\n",
    "        if selection == 1:\n",
    "            break\n",
    "        elif selection == 2:\n",
    "            return\n",
    "        else:\n",
    "             print(\"Invalid choice. Please choose 1 or 2.\")\n",
    "\n",
    "    print(\"How many kinds of expenses do you want to calculate?\")\n",
    "    num_expenses = int(input(\"Enter your number of expense kind: \"))\n",
    "    total_expenses: float = 0.0\n",
    "    print(\"|\" + \"-\"*40 + \"|\")\n",
    "    for _ in range(num_expenses):\n",
    "        name = input(\"Enter the name of expense: \")\n",
    "        price: float = get_float_input(\"Enter the price of this expense: \")\n",
    "        quantity: int = get_int_input(\"Enter the quantity of this expense: \")\n",
    "        cost = price * quantity\n",
    "        print(f\"==> {name} ({quantity}): {currency} {cost:,.2f}\")\n",
    "        total_expenses += cost\n",
    "    \n",
    "    print(f\"\\tTotal monthly expenses: {currency} {total_expenses:,.2f}\")\n",
    "    print(f\"\\tRemaining after expenses: {currency} {monthly_net_income - total_expenses:,.2f}\")\n",
    "    print(\"|\" + \"-\"*40 + \"|\")\n",
    "\n",
    "def main() -> None:\n",
    "    #receive data from user\n",
    "    monthly_income: float = get_float_input(\"Enter your monthly income: \")\n",
    "    tax_rate: float = get_float_input(\"Enter your tax rate (%): \")\n",
    "    \n",
    "    #call the function\n",
    "    calculate_finances(monthly_income, tax_rate, currency = \"VND\")\n",
    "\n",
    "if __name__ == \"__main__\":\n",
    "    main()"
   ]
  }
 ],
 "metadata": {
  "kernelspec": {
   "display_name": "Python 3 (ipykernel)",
   "language": "python",
   "name": "python3"
  },
  "language_info": {
   "codemirror_mode": {
    "name": "ipython",
    "version": 3
   },
   "file_extension": ".py",
   "mimetype": "text/x-python",
   "name": "python",
   "nbconvert_exporter": "python",
   "pygments_lexer": "ipython3",
   "version": "3.11.8"
  }
 },
 "nbformat": 4,
 "nbformat_minor": 5
}
